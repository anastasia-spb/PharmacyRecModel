{
 "cells": [
  {
   "cell_type": "code",
   "execution_count": 1,
   "id": "3cea9852",
   "metadata": {},
   "outputs": [
    {
     "name": "stderr",
     "output_type": "stream",
     "text": [
      "/home/rpc/Desktop/RecSystems/Project/env/lib/python3.10/site-packages/tqdm/auto.py:22: TqdmWarning: IProgress not found. Please update jupyter and ipywidgets. See https://ipywidgets.readthedocs.io/en/stable/user_install.html\n",
      "  from .autonotebook import tqdm as notebook_tqdm\n"
     ]
    }
   ],
   "source": [
    "import gc\n",
    "\n",
    "import numpy as np\n",
    "import torch"
   ]
  },
  {
   "cell_type": "code",
   "execution_count": 2,
   "id": "ef81086a",
   "metadata": {},
   "outputs": [
    {
     "name": "stdout",
     "output_type": "stream",
     "text": [
      "Torch device:  cuda\n"
     ]
    }
   ],
   "source": [
    "# Cuda maintenance\n",
    "gc.collect()\n",
    "torch.cuda.empty_cache()\n",
    "\n",
    "device = torch.device('cuda' if torch.cuda.is_available() else 'cpu')\n",
    "print(\"Torch device: \", device)\n"
   ]
  },
  {
   "cell_type": "code",
   "execution_count": 3,
   "id": "056f396b",
   "metadata": {},
   "outputs": [],
   "source": [
    "import pandas as pd"
   ]
  },
  {
   "cell_type": "code",
   "execution_count": 4,
   "id": "cf424b6d",
   "metadata": {},
   "outputs": [],
   "source": [
    "data_path = '/home/rpc/Desktop/RecSystems/Project/data'"
   ]
  },
  {
   "cell_type": "code",
   "execution_count": 5,
   "id": "3b693e06",
   "metadata": {},
   "outputs": [
    {
     "name": "stdout",
     "output_type": "stream",
     "text": [
      "/home/rpc/Desktop/RecSystems/Project/data\r\n",
      "/home/rpc/Desktop/RecSystems/Project/data/чековые данные.csv\r\n",
      "/home/rpc/Desktop/RecSystems/Project/data/Product_dict.pkl\r\n",
      "/home/rpc/Desktop/RecSystems/Project/data/.~lock.чековые данные.csv#\r\n",
      "/home/rpc/Desktop/RecSystems/Project/data/products.csv\r\n"
     ]
    }
   ],
   "source": [
    "!find {data_path}"
   ]
  },
  {
   "cell_type": "code",
   "execution_count": 6,
   "id": "b98b1c2f",
   "metadata": {},
   "outputs": [
    {
     "name": "stderr",
     "output_type": "stream",
     "text": [
      "/tmp/ipykernel_5998/1885024923.py:1: DtypeWarning: Columns (1) have mixed types. Specify dtype option on import or set low_memory=False.\n",
      "  receipts_data = pd.read_csv(\"/home/rpc/Desktop/RecSystems/Project/data/чековые данные.csv\",\n"
     ]
    }
   ],
   "source": [
    "receipts_data = pd.read_csv(\"/home/rpc/Desktop/RecSystems/Project/data/чековые данные.csv\",\n",
    "                            parse_dates=['sale_date_date'],\n",
    "                            on_bad_lines='skip')"
   ]
  },
  {
   "cell_type": "code",
   "execution_count": 7,
   "id": "5e21dd74",
   "metadata": {},
   "outputs": [
    {
     "data": {
      "text/html": [
       "<div>\n",
       "<style scoped>\n",
       "    .dataframe tbody tr th:only-of-type {\n",
       "        vertical-align: middle;\n",
       "    }\n",
       "\n",
       "    .dataframe tbody tr th {\n",
       "        vertical-align: top;\n",
       "    }\n",
       "\n",
       "    .dataframe thead th {\n",
       "        text-align: right;\n",
       "    }\n",
       "</style>\n",
       "<table border=\"1\" class=\"dataframe\">\n",
       "  <thead>\n",
       "    <tr style=\"text-align: right;\">\n",
       "      <th></th>\n",
       "      <th>sale_date_date</th>\n",
       "      <th>contact_id</th>\n",
       "      <th>shop_id</th>\n",
       "      <th>product_id</th>\n",
       "      <th>name</th>\n",
       "      <th>product_sub_category_id</th>\n",
       "      <th>product_category_id</th>\n",
       "      <th>brand_id</th>\n",
       "      <th>quantity</th>\n",
       "    </tr>\n",
       "  </thead>\n",
       "  <tbody>\n",
       "    <tr>\n",
       "      <th>0</th>\n",
       "      <td>2018-12-07</td>\n",
       "      <td>1260627</td>\n",
       "      <td>1455.0</td>\n",
       "      <td>168308.0</td>\n",
       "      <td>(197312) Пакет-майка 25см х 45см</td>\n",
       "      <td>906.0</td>\n",
       "      <td>205.0</td>\n",
       "      <td>-1.0</td>\n",
       "      <td>1,00</td>\n",
       "    </tr>\n",
       "    <tr>\n",
       "      <th>1</th>\n",
       "      <td>2018-12-07</td>\n",
       "      <td>198287</td>\n",
       "      <td>279.0</td>\n",
       "      <td>134832.0</td>\n",
       "      <td>(62448) Перекись водорода р-р наружн. 3% фл.по...</td>\n",
       "      <td>404.0</td>\n",
       "      <td>93.0</td>\n",
       "      <td>-1.0</td>\n",
       "      <td>1,00</td>\n",
       "    </tr>\n",
       "    <tr>\n",
       "      <th>2</th>\n",
       "      <td>2018-12-07</td>\n",
       "      <td>2418385</td>\n",
       "      <td>848.0</td>\n",
       "      <td>101384.0</td>\n",
       "      <td>(72183) Салициловая кислота р-р спирт 2% фл 40...</td>\n",
       "      <td>404.0</td>\n",
       "      <td>93.0</td>\n",
       "      <td>-1.0</td>\n",
       "      <td>1,00</td>\n",
       "    </tr>\n",
       "    <tr>\n",
       "      <th>3</th>\n",
       "      <td>2018-12-07</td>\n",
       "      <td>1285774</td>\n",
       "      <td>1511.0</td>\n",
       "      <td>168570.0</td>\n",
       "      <td>(197309) Пакет 28см х 50см</td>\n",
       "      <td>906.0</td>\n",
       "      <td>205.0</td>\n",
       "      <td>-1.0</td>\n",
       "      <td>1,00</td>\n",
       "    </tr>\n",
       "    <tr>\n",
       "      <th>4</th>\n",
       "      <td>2018-12-07</td>\n",
       "      <td>1810323</td>\n",
       "      <td>1501.0</td>\n",
       "      <td>168319.0</td>\n",
       "      <td>(197310) Пакет 30см х 60см</td>\n",
       "      <td>906.0</td>\n",
       "      <td>205.0</td>\n",
       "      <td>-1.0</td>\n",
       "      <td>1,00</td>\n",
       "    </tr>\n",
       "  </tbody>\n",
       "</table>\n",
       "</div>"
      ],
      "text/plain": [
       "  sale_date_date contact_id  shop_id  product_id  \\\n",
       "0     2018-12-07    1260627   1455.0    168308.0   \n",
       "1     2018-12-07     198287    279.0    134832.0   \n",
       "2     2018-12-07    2418385    848.0    101384.0   \n",
       "3     2018-12-07    1285774   1511.0    168570.0   \n",
       "4     2018-12-07    1810323   1501.0    168319.0   \n",
       "\n",
       "                                                name  product_sub_category_id  \\\n",
       "0                   (197312) Пакет-майка 25см х 45см                    906.0   \n",
       "1  (62448) Перекись водорода р-р наружн. 3% фл.по...                    404.0   \n",
       "2  (72183) Салициловая кислота р-р спирт 2% фл 40...                    404.0   \n",
       "3                         (197309) Пакет 28см х 50см                    906.0   \n",
       "4                         (197310) Пакет 30см х 60см                    906.0   \n",
       "\n",
       "   product_category_id  brand_id quantity  \n",
       "0                205.0      -1.0     1,00  \n",
       "1                 93.0      -1.0     1,00  \n",
       "2                 93.0      -1.0     1,00  \n",
       "3                205.0      -1.0     1,00  \n",
       "4                205.0      -1.0     1,00  "
      ]
     },
     "execution_count": 7,
     "metadata": {},
     "output_type": "execute_result"
    }
   ],
   "source": [
    "receipts_data.head()"
   ]
  },
  {
   "cell_type": "code",
   "execution_count": 8,
   "id": "92b8805b",
   "metadata": {},
   "outputs": [
    {
     "data": {
      "text/plain": [
       "(20000003, 9)"
      ]
     },
     "execution_count": 8,
     "metadata": {},
     "output_type": "execute_result"
    }
   ],
   "source": [
    "receipts_data.shape"
   ]
  },
  {
   "cell_type": "code",
   "execution_count": 9,
   "id": "3182042f",
   "metadata": {},
   "outputs": [],
   "source": [
    "receipts_data = receipts_data.dropna()"
   ]
  },
  {
   "cell_type": "code",
   "execution_count": 10,
   "id": "a22cdd89",
   "metadata": {},
   "outputs": [
    {
     "data": {
      "text/plain": [
       "(19989262, 9)"
      ]
     },
     "execution_count": 10,
     "metadata": {},
     "output_type": "execute_result"
    }
   ],
   "source": [
    "receipts_data.shape"
   ]
  },
  {
   "cell_type": "code",
   "execution_count": 11,
   "id": "3758ba29",
   "metadata": {},
   "outputs": [],
   "source": [
    "receipts_data[[\"contact_id\", \"shop_id\", \"product_id\"]] =\\\n",
    "    receipts_data[[\"contact_id\", \"shop_id\", \"product_id\"]].apply(pd.to_numeric, errors='coerce', downcast='integer')"
   ]
  },
  {
   "cell_type": "code",
   "execution_count": 12,
   "id": "63026810",
   "metadata": {},
   "outputs": [
    {
     "data": {
      "text/html": [
       "<div>\n",
       "<style scoped>\n",
       "    .dataframe tbody tr th:only-of-type {\n",
       "        vertical-align: middle;\n",
       "    }\n",
       "\n",
       "    .dataframe tbody tr th {\n",
       "        vertical-align: top;\n",
       "    }\n",
       "\n",
       "    .dataframe thead th {\n",
       "        text-align: right;\n",
       "    }\n",
       "</style>\n",
       "<table border=\"1\" class=\"dataframe\">\n",
       "  <thead>\n",
       "    <tr style=\"text-align: right;\">\n",
       "      <th></th>\n",
       "      <th>sale_date_date</th>\n",
       "      <th>contact_id</th>\n",
       "      <th>shop_id</th>\n",
       "      <th>product_id</th>\n",
       "      <th>name</th>\n",
       "      <th>product_sub_category_id</th>\n",
       "      <th>product_category_id</th>\n",
       "      <th>brand_id</th>\n",
       "      <th>quantity</th>\n",
       "    </tr>\n",
       "  </thead>\n",
       "  <tbody>\n",
       "    <tr>\n",
       "      <th>0</th>\n",
       "      <td>2018-12-07</td>\n",
       "      <td>1260627</td>\n",
       "      <td>1455</td>\n",
       "      <td>168308</td>\n",
       "      <td>(197312) Пакет-майка 25см х 45см</td>\n",
       "      <td>906.0</td>\n",
       "      <td>205.0</td>\n",
       "      <td>-1.0</td>\n",
       "      <td>1,00</td>\n",
       "    </tr>\n",
       "    <tr>\n",
       "      <th>1</th>\n",
       "      <td>2018-12-07</td>\n",
       "      <td>198287</td>\n",
       "      <td>279</td>\n",
       "      <td>134832</td>\n",
       "      <td>(62448) Перекись водорода р-р наружн. 3% фл.по...</td>\n",
       "      <td>404.0</td>\n",
       "      <td>93.0</td>\n",
       "      <td>-1.0</td>\n",
       "      <td>1,00</td>\n",
       "    </tr>\n",
       "    <tr>\n",
       "      <th>2</th>\n",
       "      <td>2018-12-07</td>\n",
       "      <td>2418385</td>\n",
       "      <td>848</td>\n",
       "      <td>101384</td>\n",
       "      <td>(72183) Салициловая кислота р-р спирт 2% фл 40...</td>\n",
       "      <td>404.0</td>\n",
       "      <td>93.0</td>\n",
       "      <td>-1.0</td>\n",
       "      <td>1,00</td>\n",
       "    </tr>\n",
       "  </tbody>\n",
       "</table>\n",
       "</div>"
      ],
      "text/plain": [
       "  sale_date_date  contact_id  shop_id  product_id  \\\n",
       "0     2018-12-07     1260627     1455      168308   \n",
       "1     2018-12-07      198287      279      134832   \n",
       "2     2018-12-07     2418385      848      101384   \n",
       "\n",
       "                                                name  product_sub_category_id  \\\n",
       "0                   (197312) Пакет-майка 25см х 45см                    906.0   \n",
       "1  (62448) Перекись водорода р-р наружн. 3% фл.по...                    404.0   \n",
       "2  (72183) Салициловая кислота р-р спирт 2% фл 40...                    404.0   \n",
       "\n",
       "   product_category_id  brand_id quantity  \n",
       "0                205.0      -1.0     1,00  \n",
       "1                 93.0      -1.0     1,00  \n",
       "2                 93.0      -1.0     1,00  "
      ]
     },
     "execution_count": 12,
     "metadata": {},
     "output_type": "execute_result"
    }
   ],
   "source": [
    "receipts_data.head(3)"
   ]
  },
  {
   "cell_type": "code",
   "execution_count": 13,
   "id": "ec9bc2ee",
   "metadata": {},
   "outputs": [],
   "source": [
    "receipts_data = receipts_data.dropna()"
   ]
  },
  {
   "cell_type": "code",
   "execution_count": 14,
   "id": "9d9b776a",
   "metadata": {},
   "outputs": [
    {
     "data": {
      "text/plain": [
       "(19989262, 9)"
      ]
     },
     "execution_count": 14,
     "metadata": {},
     "output_type": "execute_result"
    }
   ],
   "source": [
    "receipts_data.shape"
   ]
  },
  {
   "cell_type": "code",
   "execution_count": 15,
   "id": "04800188",
   "metadata": {},
   "outputs": [],
   "source": [
    "receipts_data = receipts_data.drop_duplicates()"
   ]
  },
  {
   "cell_type": "code",
   "execution_count": 16,
   "id": "c6c512b3",
   "metadata": {},
   "outputs": [
    {
     "data": {
      "text/plain": [
       "(19703842, 9)"
      ]
     },
     "execution_count": 16,
     "metadata": {},
     "output_type": "execute_result"
    }
   ],
   "source": [
    "receipts_data.shape"
   ]
  },
  {
   "cell_type": "code",
   "execution_count": 17,
   "id": "d741356e",
   "metadata": {},
   "outputs": [],
   "source": [
    "# Add user ids\n",
    "\n",
    "contact_ids = receipts_data.contact_id.unique()"
   ]
  },
  {
   "cell_type": "code",
   "execution_count": 18,
   "id": "5cbb2884",
   "metadata": {},
   "outputs": [],
   "source": [
    "contact_ids_map = {contact_ids[i]: i for i in range(len(contact_ids))}"
   ]
  },
  {
   "cell_type": "code",
   "execution_count": 19,
   "id": "6afb2696",
   "metadata": {},
   "outputs": [],
   "source": [
    "product_ids = receipts_data.product_id.unique()\n",
    "product_ids_map = {product_ids[i]: i for i in range(len(product_ids))}"
   ]
  },
  {
   "cell_type": "code",
   "execution_count": 20,
   "id": "333673d1",
   "metadata": {},
   "outputs": [],
   "source": [
    "receipts_data[\"contact_serial_number\"] = receipts_data[\"contact_id\"].apply(lambda x: contact_ids_map[x]) "
   ]
  },
  {
   "cell_type": "code",
   "execution_count": 21,
   "id": "5188f5f8",
   "metadata": {},
   "outputs": [],
   "source": [
    "receipts_data[\"product_serial_number\"] = receipts_data[\"product_id\"].apply(lambda x: product_ids_map[x]) "
   ]
  },
  {
   "cell_type": "code",
   "execution_count": 23,
   "id": "819c9670",
   "metadata": {},
   "outputs": [
    {
     "data": {
      "text/plain": [
       "(19703842, 11)"
      ]
     },
     "execution_count": 23,
     "metadata": {},
     "output_type": "execute_result"
    }
   ],
   "source": [
    "receipts_data.shape"
   ]
  },
  {
   "cell_type": "code",
   "execution_count": 24,
   "id": "21c4499a",
   "metadata": {},
   "outputs": [],
   "source": [
    "#receipts_data.to_csv(index=False)\n",
    "\n",
    "compression_opts = dict(method='zip', archive_name='prefiltered.csv')  \n",
    "receipts_data.to_csv('prefiltered.zip', index=False, compression=compression_opts)  "
   ]
  },
  {
   "cell_type": "code",
   "execution_count": 26,
   "id": "db7170c3",
   "metadata": {},
   "outputs": [],
   "source": [
    "receipts_data_filtered = receipts_data.loc[~receipts_data['product_id'].isin(bags_ids)]"
   ]
  },
  {
   "cell_type": "code",
   "execution_count": 27,
   "id": "2d560810",
   "metadata": {},
   "outputs": [
    {
     "data": {
      "text/plain": [
       "(19449494, 11)"
      ]
     },
     "execution_count": 27,
     "metadata": {},
     "output_type": "execute_result"
    }
   ],
   "source": [
    "receipts_data_filtered.shape"
   ]
  },
  {
   "cell_type": "code",
   "execution_count": null,
   "id": "6f2d1b94",
   "metadata": {},
   "outputs": [],
   "source": []
  },
  {
   "cell_type": "markdown",
   "id": "2979fa28",
   "metadata": {},
   "source": [
    "### Split to train and test\n",
    "\n",
    "----"
   ]
  },
  {
   "cell_type": "code",
   "execution_count": null,
   "id": "984a8182",
   "metadata": {},
   "outputs": [],
   "source": []
  },
  {
   "cell_type": "code",
   "execution_count": null,
   "id": "4510442d",
   "metadata": {},
   "outputs": [],
   "source": []
  },
  {
   "cell_type": "code",
   "execution_count": null,
   "id": "4c89d952",
   "metadata": {},
   "outputs": [],
   "source": []
  },
  {
   "cell_type": "code",
   "execution_count": null,
   "id": "5dc42f0a",
   "metadata": {},
   "outputs": [],
   "source": []
  },
  {
   "cell_type": "code",
   "execution_count": null,
   "id": "debc9c6a",
   "metadata": {},
   "outputs": [],
   "source": []
  },
  {
   "cell_type": "code",
   "execution_count": 59,
   "id": "e585c437",
   "metadata": {},
   "outputs": [],
   "source": [
    "from surprise import Reader\n",
    "from surprise import Dataset"
   ]
  },
  {
   "cell_type": "code",
   "execution_count": 60,
   "id": "bd45fcf3",
   "metadata": {},
   "outputs": [
    {
     "ename": "ValueError",
     "evalue": "not enough values to unpack (expected 3, got 2)",
     "output_type": "error",
     "traceback": [
      "\u001b[0;31m---------------------------------------------------------------------------\u001b[0m",
      "\u001b[0;31mValueError\u001b[0m                                Traceback (most recent call last)",
      "Cell \u001b[0;32mIn[60], line 2\u001b[0m\n\u001b[1;32m      1\u001b[0m reader \u001b[38;5;241m=\u001b[39m Reader(rating_scale\u001b[38;5;241m=\u001b[39m(\u001b[38;5;241m0\u001b[39m, \u001b[38;5;241m1\u001b[39m))\n\u001b[0;32m----> 2\u001b[0m data \u001b[38;5;241m=\u001b[39m \u001b[43mDataset\u001b[49m\u001b[38;5;241;43m.\u001b[39;49m\u001b[43mload_from_df\u001b[49m\u001b[43m(\u001b[49m\u001b[43mreceipts_data_filtered\u001b[49m\u001b[43m[\u001b[49m\u001b[43m[\u001b[49m\u001b[38;5;124;43m'\u001b[39;49m\u001b[38;5;124;43mcontact_serial_number\u001b[39;49m\u001b[38;5;124;43m'\u001b[39;49m\u001b[43m,\u001b[49m\u001b[43m \u001b[49m\u001b[38;5;124;43m'\u001b[39;49m\u001b[38;5;124;43mproduct_serial_number\u001b[39;49m\u001b[38;5;124;43m'\u001b[39;49m\u001b[43m]\u001b[49m\u001b[43m]\u001b[49m\u001b[43m,\u001b[49m\u001b[43m \u001b[49m\u001b[43mreader\u001b[49m\u001b[43m)\u001b[49m\n",
      "File \u001b[0;32m~/Desktop/RecSystems/Project/env/lib/python3.10/site-packages/surprise/dataset.py:167\u001b[0m, in \u001b[0;36mDataset.load_from_df\u001b[0;34m(cls, df, reader)\u001b[0m\n\u001b[1;32m    150\u001b[0m \u001b[38;5;129m@classmethod\u001b[39m\n\u001b[1;32m    151\u001b[0m \u001b[38;5;28;01mdef\u001b[39;00m \u001b[38;5;21mload_from_df\u001b[39m(\u001b[38;5;28mcls\u001b[39m, df, reader):\n\u001b[1;32m    152\u001b[0m     \u001b[38;5;124;03m\"\"\"Load a dataset from a pandas dataframe.\u001b[39;00m\n\u001b[1;32m    153\u001b[0m \n\u001b[1;32m    154\u001b[0m \u001b[38;5;124;03m    Use this if you want to use a custom dataset that is stored in a pandas\u001b[39;00m\n\u001b[0;32m   (...)\u001b[0m\n\u001b[1;32m    164\u001b[0m \u001b[38;5;124;03m            specified.\u001b[39;00m\n\u001b[1;32m    165\u001b[0m \u001b[38;5;124;03m    \"\"\"\u001b[39;00m\n\u001b[0;32m--> 167\u001b[0m     \u001b[38;5;28;01mreturn\u001b[39;00m \u001b[43mDatasetAutoFolds\u001b[49m\u001b[43m(\u001b[49m\u001b[43mreader\u001b[49m\u001b[38;5;241;43m=\u001b[39;49m\u001b[43mreader\u001b[49m\u001b[43m,\u001b[49m\u001b[43m \u001b[49m\u001b[43mdf\u001b[49m\u001b[38;5;241;43m=\u001b[39;49m\u001b[43mdf\u001b[49m\u001b[43m)\u001b[49m\n",
      "File \u001b[0;32m~/Desktop/RecSystems/Project/env/lib/python3.10/site-packages/surprise/dataset.py:262\u001b[0m, in \u001b[0;36mDatasetAutoFolds.__init__\u001b[0;34m(self, ratings_file, reader, df)\u001b[0m\n\u001b[1;32m    260\u001b[0m \u001b[38;5;28;01melif\u001b[39;00m df \u001b[38;5;129;01mis\u001b[39;00m \u001b[38;5;129;01mnot\u001b[39;00m \u001b[38;5;28;01mNone\u001b[39;00m:\n\u001b[1;32m    261\u001b[0m     \u001b[38;5;28mself\u001b[39m\u001b[38;5;241m.\u001b[39mdf \u001b[38;5;241m=\u001b[39m df\n\u001b[0;32m--> 262\u001b[0m     \u001b[38;5;28mself\u001b[39m\u001b[38;5;241m.\u001b[39mraw_ratings \u001b[38;5;241m=\u001b[39m [\n\u001b[1;32m    263\u001b[0m         (uid, iid, \u001b[38;5;28mfloat\u001b[39m(r), \u001b[38;5;28;01mNone\u001b[39;00m)\n\u001b[1;32m    264\u001b[0m         \u001b[38;5;28;01mfor\u001b[39;00m (uid, iid, r) \u001b[38;5;129;01min\u001b[39;00m \u001b[38;5;28mself\u001b[39m\u001b[38;5;241m.\u001b[39mdf\u001b[38;5;241m.\u001b[39mitertuples(index\u001b[38;5;241m=\u001b[39m\u001b[38;5;28;01mFalse\u001b[39;00m)\n\u001b[1;32m    265\u001b[0m     ]\n\u001b[1;32m    266\u001b[0m \u001b[38;5;28;01melse\u001b[39;00m:\n\u001b[1;32m    267\u001b[0m     \u001b[38;5;28;01mraise\u001b[39;00m \u001b[38;5;167;01mValueError\u001b[39;00m(\u001b[38;5;124m\"\u001b[39m\u001b[38;5;124mMust specify ratings file or dataframe.\u001b[39m\u001b[38;5;124m\"\u001b[39m)\n",
      "File \u001b[0;32m~/Desktop/RecSystems/Project/env/lib/python3.10/site-packages/surprise/dataset.py:264\u001b[0m, in \u001b[0;36m<listcomp>\u001b[0;34m(.0)\u001b[0m\n\u001b[1;32m    260\u001b[0m \u001b[38;5;28;01melif\u001b[39;00m df \u001b[38;5;129;01mis\u001b[39;00m \u001b[38;5;129;01mnot\u001b[39;00m \u001b[38;5;28;01mNone\u001b[39;00m:\n\u001b[1;32m    261\u001b[0m     \u001b[38;5;28mself\u001b[39m\u001b[38;5;241m.\u001b[39mdf \u001b[38;5;241m=\u001b[39m df\n\u001b[1;32m    262\u001b[0m     \u001b[38;5;28mself\u001b[39m\u001b[38;5;241m.\u001b[39mraw_ratings \u001b[38;5;241m=\u001b[39m [\n\u001b[1;32m    263\u001b[0m         (uid, iid, \u001b[38;5;28mfloat\u001b[39m(r), \u001b[38;5;28;01mNone\u001b[39;00m)\n\u001b[0;32m--> 264\u001b[0m         \u001b[38;5;28;01mfor\u001b[39;00m (uid, iid, r) \u001b[38;5;129;01min\u001b[39;00m \u001b[38;5;28mself\u001b[39m\u001b[38;5;241m.\u001b[39mdf\u001b[38;5;241m.\u001b[39mitertuples(index\u001b[38;5;241m=\u001b[39m\u001b[38;5;28;01mFalse\u001b[39;00m)\n\u001b[1;32m    265\u001b[0m     ]\n\u001b[1;32m    266\u001b[0m \u001b[38;5;28;01melse\u001b[39;00m:\n\u001b[1;32m    267\u001b[0m     \u001b[38;5;28;01mraise\u001b[39;00m \u001b[38;5;167;01mValueError\u001b[39;00m(\u001b[38;5;124m\"\u001b[39m\u001b[38;5;124mMust specify ratings file or dataframe.\u001b[39m\u001b[38;5;124m\"\u001b[39m)\n",
      "\u001b[0;31mValueError\u001b[0m: not enough values to unpack (expected 3, got 2)"
     ]
    }
   ],
   "source": [
    "# https://implicit.readthedocs.io/en/latest/als.html\n",
    "# https://medium.com/@patelneha1495/recommendation-system-in-python-using-als-algorithm-and-apache-spark-27aca08eaab3\n",
    "# https://surprise.readthedocs.io/en/stable/prediction_algorithms.html\n",
    "# https://towardsdatascience.com/building-and-testing-recommender-systems-with-surprise-step-by-step-d4ba702ef80b\n",
    "# https://github.com/susanli2016/Machine-Learning-with-Python/blob/master/Building%20Recommender%20System%20with%20Surprise.ipynb\n",
    "\n",
    "reader = Reader(rating_scale=(0, 1))\n",
    "data = +.load_from_df(receipts_data_filtered[['contact_serial_number', 'product_serial_number']], reader)"
   ]
  },
  {
   "cell_type": "code",
   "execution_count": null,
   "id": "7871409f",
   "metadata": {},
   "outputs": [],
   "source": []
  },
  {
   "cell_type": "code",
   "execution_count": null,
   "id": "f26e181e",
   "metadata": {},
   "outputs": [],
   "source": []
  },
  {
   "cell_type": "code",
   "execution_count": null,
   "id": "ce33443a",
   "metadata": {},
   "outputs": [],
   "source": []
  },
  {
   "cell_type": "code",
   "execution_count": null,
   "id": "839c4298",
   "metadata": {},
   "outputs": [],
   "source": []
  },
  {
   "cell_type": "code",
   "execution_count": null,
   "id": "5a198fad",
   "metadata": {},
   "outputs": [],
   "source": []
  },
  {
   "cell_type": "code",
   "execution_count": null,
   "id": "0bda3bd0",
   "metadata": {},
   "outputs": [],
   "source": []
  },
  {
   "cell_type": "code",
   "execution_count": 18,
   "id": "8e643615",
   "metadata": {},
   "outputs": [],
   "source": [
    "product_data = pd.read_csv(\"/home/rpc/Desktop/RecSystems/Project/data/products.csv\")"
   ]
  },
  {
   "cell_type": "code",
   "execution_count": 19,
   "id": "c12c002c",
   "metadata": {},
   "outputs": [
    {
     "data": {
      "text/html": [
       "<div>\n",
       "<style scoped>\n",
       "    .dataframe tbody tr th:only-of-type {\n",
       "        vertical-align: middle;\n",
       "    }\n",
       "\n",
       "    .dataframe tbody tr th {\n",
       "        vertical-align: top;\n",
       "    }\n",
       "\n",
       "    .dataframe thead th {\n",
       "        text-align: right;\n",
       "    }\n",
       "</style>\n",
       "<table border=\"1\" class=\"dataframe\">\n",
       "  <thead>\n",
       "    <tr style=\"text-align: right;\">\n",
       "      <th></th>\n",
       "      <th>product_id</th>\n",
       "      <th>product</th>\n",
       "    </tr>\n",
       "  </thead>\n",
       "  <tbody>\n",
       "    <tr>\n",
       "      <th>0</th>\n",
       "      <td>168308</td>\n",
       "      <td>(197312) Пакет-майка 25см х 45см 906</td>\n",
       "    </tr>\n",
       "    <tr>\n",
       "      <th>1</th>\n",
       "      <td>134832</td>\n",
       "      <td>(62448) Перекись водорода р-р наружн. 3% фл.по...</td>\n",
       "    </tr>\n",
       "    <tr>\n",
       "      <th>2</th>\n",
       "      <td>101384</td>\n",
       "      <td>(72183) Салициловая кислота р-р спирт 2% фл 40...</td>\n",
       "    </tr>\n",
       "    <tr>\n",
       "      <th>3</th>\n",
       "      <td>168570</td>\n",
       "      <td>(197309) Пакет 28см х 50см 906</td>\n",
       "    </tr>\n",
       "    <tr>\n",
       "      <th>4</th>\n",
       "      <td>146960</td>\n",
       "      <td>(111023) Пакет \"Аптека Озерки\" 28 х 35см 906</td>\n",
       "    </tr>\n",
       "  </tbody>\n",
       "</table>\n",
       "</div>"
      ],
      "text/plain": [
       "   product_id                                            product\n",
       "0      168308               (197312) Пакет-майка 25см х 45см 906\n",
       "1      134832  (62448) Перекись водорода р-р наружн. 3% фл.по...\n",
       "2      101384  (72183) Салициловая кислота р-р спирт 2% фл 40...\n",
       "3      168570                     (197309) Пакет 28см х 50см 906\n",
       "4      146960       (111023) Пакет \"Аптека Озерки\" 28 х 35см 906"
      ]
     },
     "execution_count": 19,
     "metadata": {},
     "output_type": "execute_result"
    }
   ],
   "source": [
    "product_data.head()"
   ]
  },
  {
   "cell_type": "code",
   "execution_count": 20,
   "id": "92033cb4",
   "metadata": {},
   "outputs": [],
   "source": [
    "def find_product_by_description(value, description):\n",
    "    return description in value\n",
    "    \n",
    "new_df = product_data[product_data.apply(lambda x : find_product_by_description(x['product'], \"Пакет\"),axis=1)]"
   ]
  },
  {
   "cell_type": "code",
   "execution_count": 32,
   "id": "11af2411",
   "metadata": {},
   "outputs": [
    {
     "data": {
      "text/html": [
       "<div>\n",
       "<style scoped>\n",
       "    .dataframe tbody tr th:only-of-type {\n",
       "        vertical-align: middle;\n",
       "    }\n",
       "\n",
       "    .dataframe tbody tr th {\n",
       "        vertical-align: top;\n",
       "    }\n",
       "\n",
       "    .dataframe thead th {\n",
       "        text-align: right;\n",
       "    }\n",
       "</style>\n",
       "<table border=\"1\" class=\"dataframe\">\n",
       "  <thead>\n",
       "    <tr style=\"text-align: right;\">\n",
       "      <th></th>\n",
       "      <th>product_id</th>\n",
       "      <th>product</th>\n",
       "    </tr>\n",
       "  </thead>\n",
       "  <tbody>\n",
       "    <tr>\n",
       "      <th>27163</th>\n",
       "      <td>84067</td>\n",
       "      <td>(58270) Пакет \"Майка\" 16х30 906</td>\n",
       "    </tr>\n",
       "    <tr>\n",
       "      <th>27598</th>\n",
       "      <td>142381</td>\n",
       "      <td>(117095) Пакет VIP белый 23х20х10см картоновый...</td>\n",
       "    </tr>\n",
       "    <tr>\n",
       "      <th>28007</th>\n",
       "      <td>214210</td>\n",
       "      <td>(200068) Пакет упак.прозр.с голографич.рисунко...</td>\n",
       "    </tr>\n",
       "    <tr>\n",
       "      <th>29787</th>\n",
       "      <td>111189</td>\n",
       "      <td>(36839) Пакет перевяз. индив. стерильный -1</td>\n",
       "    </tr>\n",
       "    <tr>\n",
       "      <th>29905</th>\n",
       "      <td>165941</td>\n",
       "      <td>(194129) ПП Пакет 25 х 30см 906</td>\n",
       "    </tr>\n",
       "    <tr>\n",
       "      <th>29955</th>\n",
       "      <td>91825</td>\n",
       "      <td>(17671) Пакет перевяз. 1 подушечка, эластичный...</td>\n",
       "    </tr>\n",
       "    <tr>\n",
       "      <th>30133</th>\n",
       "      <td>96059</td>\n",
       "      <td>(117863) РЧК Пакет подарочный Венеция 31х23см 906</td>\n",
       "    </tr>\n",
       "  </tbody>\n",
       "</table>\n",
       "</div>"
      ],
      "text/plain": [
       "       product_id                                            product\n",
       "27163       84067                    (58270) Пакет \"Майка\" 16х30 906\n",
       "27598      142381  (117095) Пакет VIP белый 23х20х10см картоновый...\n",
       "28007      214210  (200068) Пакет упак.прозр.с голографич.рисунко...\n",
       "29787      111189        (36839) Пакет перевяз. индив. стерильный -1\n",
       "29905      165941                    (194129) ПП Пакет 25 х 30см 906\n",
       "29955       91825  (17671) Пакет перевяз. 1 подушечка, эластичный...\n",
       "30133       96059  (117863) РЧК Пакет подарочный Венеция 31х23см 906"
      ]
     },
     "execution_count": 32,
     "metadata": {},
     "output_type": "execute_result"
    }
   ],
   "source": [
    "new_df[70:80]#.product_id.values"
   ]
  },
  {
   "cell_type": "code",
   "execution_count": 25,
   "id": "6de03665",
   "metadata": {},
   "outputs": [],
   "source": [
    "bags_ids = set([168308, 168570, 146960, 94270, 168319, 31222, 22832, 105675, 164928,\n",
    "           62164, 122035, 107261, 105192, 56633, 216807, 90961, 160777, 160785, 100851,\n",
    "           153121, 57815, 160496, 350140, 85927, 53949, 26647,\n",
    "           168280,  41489, 339113, 161366, 156035, 156034,  45627,  91501,\n",
    "           358775, 166825, 216816, 107898, 214400, 358718, 217507, 223330, 118208,  94155,\n",
    "           37790, 168471, 234857, 234856,  41435, 117406, 222884, 222902,  76673, 138589,\n",
    "           358733, 222711, 84067, 142381, 214210, 165941,  96059])"
   ]
  },
  {
   "cell_type": "code",
   "execution_count": 10,
   "id": "0ef7b67e",
   "metadata": {},
   "outputs": [],
   "source": [
    "import pickle\n",
    "\n",
    "with open('/home/rpc/Desktop/RecSystems/Project/data/Product_dict.pkl', 'rb') as f:\n",
    "    product_dict = pickle.load(f)"
   ]
  },
  {
   "cell_type": "code",
   "execution_count": 11,
   "id": "b86ce8c0",
   "metadata": {},
   "outputs": [
    {
     "name": "stdout",
     "output_type": "stream",
     "text": [
      "('168308', '(197312) Пакет-майка 25см х 45см 906')\n",
      "('134832', '(62448) Перекись водорода р-р наружн. 3% фл.полимерн. 100мл 404')\n",
      "('101384', '(72183) Салициловая кислота р-р спирт 2% фл 40мл N1 404')\n",
      "('168570', '(197309) Пакет 28см х 50см 906')\n",
      "('146960', '(111023) Пакет \"Аптека Озерки\" 28 х 35см 906')\n",
      "('128700', '(51806) Ранитидин тб 150мг уп N20 595')\n",
      "('52539', '(19416) Платки носовые \"Зева Кидс\" №10 721')\n",
      "('94270', '(66684) Пакет майка \"Благодарим за покупку\" (28+14) х 43см №1 -1')\n",
      "('77426', '(5605) Иглы Микро-Файн д/шприц-ручки 30G 0,3*8мм N100 759')\n",
      "('92475', '(114214) Дорзопт капли глазные 2% 5мл. фл.-кап. N3 575')\n",
      "('158643', '(181230) PL Шприц одноразовый 3-комп. 3мл №1 762')\n"
     ]
    }
   ],
   "source": [
    "count = 0\n",
    "for item in product_dict.items():\n",
    "    if count > 10:\n",
    "        break\n",
    "    print(item)\n",
    "    count += 1"
   ]
  },
  {
   "cell_type": "code",
   "execution_count": 12,
   "id": "686cb965",
   "metadata": {},
   "outputs": [
    {
     "data": {
      "text/plain": [
       "array([1260627, 198287, 2418385, ..., '1788779', nan, 'к: 20000000'],\n",
       "      dtype=object)"
      ]
     },
     "execution_count": 12,
     "metadata": {},
     "output_type": "execute_result"
    }
   ],
   "source": [
    "# Add users and items sequence number\n",
    "\n",
    "receipts_data.contact_id.unique()"
   ]
  },
  {
   "cell_type": "markdown",
   "id": "c0fcae45",
   "metadata": {},
   "source": [
    "### Plan\n",
    "\n",
    "\n",
    "---\n",
    "\n",
    "Постановка задачи: разработать рекомендательную систему для аптек. Представьте, что вы приходите на кассу, а у кассира во время формирования чека всплывает подсказка, что можно вам ещё порекомендовать.\n",
    "\n",
    "---\n",
    "\n",
    "\n",
    "### Preprocessing\n",
    "\n",
    "---\n",
    "\n",
    "* Delete NaNs\n",
    "* Delete users who bought above average (оптовые) ... build hists\n",
    "* \n",
    "\n",
    "#### Model 1\n",
    "\n",
    "**Кандидатогенерация** (два разных подхода):\n",
    "1. Build matrix of users and items and apply SVD or ALS from ``surprise`` lib\n",
    "2. Using word2vec calculate numerical representation from product description and using cos dist or KNN select recommendations \n",
    "\n",
    "Результаты можно смешать\n",
    "\n",
    "**Ранжирование**:\n",
    "\n",
    "---\n",
    "\n",
    "Алгоритм для каждого item’а отдаёт значения оценок, по которым их можно отсортировать\n",
    "\n",
    "---\n",
    "\n",
    "2. Using word2vec calculate numerical representation from selected products description and using cos dist or KNN range recommendations\n",
    "\n",
    "#### Model 2\n",
    "\n",
    "Additional features:\n",
    "1. User bought already this product\n",
    "2. Seasonal products, popular products\n",
    "...\n",
    "\n",
    "Build binary classificator based on products and users features.\n",
    "\n",
    "\n",
    "\n",
    "How to build datasets:\n",
    "Validation:\n",
    "1. Group items into one receipt (list of bought products by one user) by sale_date_date, contact_id and shop_id\n",
    "2. Mark part of this list as input, generate recommendations based on this input and compare recommendations with the remaining part of the list. Calculate metric:\n",
    "\n",
    "$$ \\frac{количество купленных товаров из рекомендованного}{N} $$\n",
    "\n",
    "\n",
    "\n",
    "\n",
    "\n",
    "\n",
    "If user didn't bought a popular item, then it's a TN\n",
    "\n",
    "\n",
    "#### Additional Option\n",
    "\n",
    "Use LightFM lib for prediction. In my case I have a problem with LightFM installation: https://github.com/lyst/lightfm/issues/671"
   ]
  }
 ],
 "metadata": {
  "kernelspec": {
   "display_name": "Python 3 (ipykernel)",
   "language": "python",
   "name": "python3"
  },
  "language_info": {
   "codemirror_mode": {
    "name": "ipython",
    "version": 3
   },
   "file_extension": ".py",
   "mimetype": "text/x-python",
   "name": "python",
   "nbconvert_exporter": "python",
   "pygments_lexer": "ipython3",
   "version": "3.10.6"
  }
 },
 "nbformat": 4,
 "nbformat_minor": 5
}
